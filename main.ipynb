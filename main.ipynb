{
 "cells": [
  {
   "cell_type": "code",
   "execution_count": 1,
   "metadata": {},
   "outputs": [],
   "source": [
    "def read_wav(path):\n",
    "    from scipy.io import wavfile\n",
    "    samplerate, data = wavfile.read(path)\n",
    "    return samplerate,data\n",
    "def read_script(path,samplerate,video_name):\n",
    "    from pandas import DataFrame\n",
    "    tempstamps = []\n",
    "    phrases = []\n",
    "    with open(path,'r') as f:\n",
    "        content = f.read().splitlines()\n",
    "    for i in range(0,len(content),2):\n",
    "        tempstamps.append(content[i])\n",
    "        phrases.append(content[i+1])\n",
    "    # convert timestamps to seconds\n",
    "    timestamps = []\n",
    "    for timestamp in tempstamps:\n",
    "        vals = timestamp.split(':')\n",
    "        if(len(vals) == 2):\n",
    "            mm = int(vals[0])\n",
    "            ss = int(vals[1])\n",
    "            timestamps.append((mm*60)+ss)\n",
    "        else:\n",
    "            hh = int(vals[0])\n",
    "            mm = int(vals[1])\n",
    "            ss = int(vals[2])\n",
    "            timestamps.append((hh*3600)+(mm*60)+ss)\n",
    "    datastamps = [timestamp*samplerate for timestamp in timestamps]\n",
    "    df = DataFrame([datastamps,datastamps[1:]+[1],phrases],index=['startstamps','endstamps','phrase']).T\n",
    "    df = df[1:-1]\n",
    "    df = df.reset_index(drop=True)\n",
    "    df['phrase'].reset_index().rename({'index':'filename'},axis=1).to_csv(f'{video_name}/metadata.csv',index=False)\n",
    "    return df\n",
    "def split_audio(samplerate,data,content,video_name):\n",
    "    from os import system\n",
    "    from scipy.io import wavfile\n",
    "    system(f'mkdir {video_name}/phrases')\n",
    "    for i,row in enumerate(content.iloc):\n",
    "        phrase = row['phrase']\n",
    "        start = row['startstamps']\n",
    "        end = row['endstamps']\n",
    "        wavfile.write(f'{video_name}/phrases/{i}.wav',samplerate,data[start:end+15000])"
   ]
  },
  {
   "cell_type": "code",
   "execution_count": 2,
   "metadata": {},
   "outputs": [],
   "source": [
    "video_name = f'numberphile'\n",
    "samplerate,data = read_wav(f'{video_name}/audio.wav')\n",
    "content = read_script(f'{video_name}/script.txt',samplerate,video_name)\n",
    "split_audio(samplerate=samplerate,data=data,content=content,video_name=video_name)"
   ]
  }
 ],
 "metadata": {
  "kernelspec": {
   "display_name": "Python 3.10.4 64-bit",
   "language": "python",
   "name": "python3"
  },
  "language_info": {
   "codemirror_mode": {
    "name": "ipython",
    "version": 3
   },
   "file_extension": ".py",
   "mimetype": "text/x-python",
   "name": "python",
   "nbconvert_exporter": "python",
   "pygments_lexer": "ipython3",
   "version": "3.10.6"
  },
  "orig_nbformat": 4,
  "vscode": {
   "interpreter": {
    "hash": "916dbcbb3f70747c44a77c7bcd40155683ae19c65e1c03b4aa3499c5328201f1"
   }
  }
 },
 "nbformat": 4,
 "nbformat_minor": 2
}
